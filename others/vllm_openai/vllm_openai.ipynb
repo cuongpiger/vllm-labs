{
 "cells": [
  {
   "cell_type": "markdown",
   "metadata": {},
   "source": [
    "Before run the below code, run the `vllm` server:\n",
    "```bash\n",
    "vllm serve Qwen/Qwen2.5-1.5B-Instruct\n",
    "```"
   ]
  },
  {
   "cell_type": "code",
   "execution_count": 1,
   "metadata": {},
   "outputs": [],
   "source": [
    "from langchain_community.llms import VLLMOpenAI"
   ]
  },
  {
   "cell_type": "code",
   "execution_count": 2,
   "metadata": {},
   "outputs": [],
   "source": [
    "VLLM_ENDPOINT = \"http://localhost:8000/v1\"\n",
    "VLLM_MODEL = \"Qwen/Qwen2.5-1.5B-Instruct\""
   ]
  },
  {
   "cell_type": "code",
   "execution_count": 3,
   "metadata": {},
   "outputs": [],
   "source": [
    "llm = VLLMOpenAI(\n",
    "    openai_api_key=\"EMPTY\",\n",
    "    openai_api_base=VLLM_ENDPOINT,\n",
    "    model_name=VLLM_MODEL,\n",
    "    model_kwargs={\"stop\": [\".\"]},\n",
    ")"
   ]
  },
  {
   "cell_type": "code",
   "execution_count": 4,
   "metadata": {},
   "outputs": [
    {
     "name": "stdout",
     "output_type": "stream",
     "text": [
      ", nhưng bản thân Cường rất hợp với bản dịch \"King\" trong tiếng Việt\n"
     ]
    }
   ],
   "source": [
    "print(llm.invoke(\"Tên của mình là Cường\"))"
   ]
  },
  {
   "cell_type": "code",
   "execution_count": 13,
   "metadata": {},
   "outputs": [
    {
     "name": "stdout",
     "output_type": "stream",
     "text": [
      " trên các nền tảng máy tính trong công nghệ điện toán đám mây\n"
     ]
    }
   ],
   "source": [
    "print(llm.invoke(\"Kubernetes là một nền tảng mã nguồn mở để quản lý các container\"))"
   ]
  },
  {
   "cell_type": "code",
   "execution_count": null,
   "metadata": {},
   "outputs": [],
   "source": []
  }
 ],
 "metadata": {
  "kernelspec": {
   "display_name": ".venv",
   "language": "python",
   "name": "python3"
  },
  "language_info": {
   "codemirror_mode": {
    "name": "ipython",
    "version": 3
   },
   "file_extension": ".py",
   "mimetype": "text/x-python",
   "name": "python",
   "nbconvert_exporter": "python",
   "pygments_lexer": "ipython3",
   "version": "3.12.3"
  }
 },
 "nbformat": 4,
 "nbformat_minor": 2
}
