{
 "cells": [
  {
   "cell_type": "code",
   "execution_count": 1,
   "metadata": {},
   "outputs": [
    {
     "name": "stderr",
     "output_type": "stream",
     "text": [
      "/usr/local/lib/python3.10/dist-packages/tqdm/auto.py:21: TqdmWarning: IProgress not found. Please update jupyter and ipywidgets. See https://ipywidgets.readthedocs.io/en/stable/user_install.html\n",
      "  from .autonotebook import tqdm as notebook_tqdm\n",
      "2025-01-31 10:27:05,309\tINFO util.py:154 -- Missing packages: ['ipywidgets']. Run `pip install -U ipywidgets`, then restart the notebook server for rich notebook output.\n"
     ]
    }
   ],
   "source": [
    "from vllm import LLM, SamplingParams"
   ]
  },
  {
   "cell_type": "code",
   "execution_count": 2,
   "metadata": {},
   "outputs": [],
   "source": [
    "# Sample prompts.\n",
    "prompts = [\n",
    "    \"Xin chào, tên tôi là\",\n",
    "    \"Thủ tướng của Việt Nam là\",\n",
    "    \"Thủ đô của Việt Nam là\",\n",
    "    \"Tương lai của AI sẽ\",\n",
    "]"
   ]
  },
  {
   "cell_type": "code",
   "execution_count": 3,
   "metadata": {},
   "outputs": [],
   "source": [
    "# Create a sampling params object.\n",
    "sampling_params = SamplingParams(temperature=0.8, top_p=0.95)"
   ]
  },
  {
   "cell_type": "code",
   "execution_count": 4,
   "metadata": {},
   "outputs": [
    {
     "name": "stdout",
     "output_type": "stream",
     "text": [
      "INFO 01-31 10:27:14 config.py:510] This model supports multiple tasks: {'embed', 'reward', 'score', 'generate', 'classify'}. Defaulting to 'generate'.\n",
      "WARNING 01-31 10:27:14 arg_utils.py:1103] Chunked prefill is enabled by default for models with max_model_len > 32K. Currently, chunked prefill might not work with some features or models. If you encounter any issues, please disable chunked prefill by setting --enable-chunked-prefill=False.\n",
      "INFO 01-31 10:27:14 config.py:1458] Chunked prefill is enabled with max_num_batched_tokens=2048.\n",
      "INFO 01-31 10:27:14 llm_engine.py:234] Initializing an LLM engine (v0.6.6.post1) with config: model='deepseek-ai/DeepSeek-R1-Distill-Llama-8B', speculative_config=None, tokenizer='deepseek-ai/DeepSeek-R1-Distill-Llama-8B', skip_tokenizer_init=False, tokenizer_mode=auto, revision=None, override_neuron_config=None, tokenizer_revision=None, trust_remote_code=True, dtype=torch.bfloat16, max_seq_len=131072, download_dir=None, load_format=auto, tensor_parallel_size=1, pipeline_parallel_size=1, disable_custom_all_reduce=False, quantization=None, enforce_eager=False, kv_cache_dtype=auto, quantization_param_path=None, device_config=cuda, decoding_config=DecodingConfig(guided_decoding_backend='xgrammar'), observability_config=ObservabilityConfig(otlp_traces_endpoint=None, collect_model_forward_time=False, collect_model_execute_time=False), seed=0, served_model_name=deepseek-ai/DeepSeek-R1-Distill-Llama-8B, num_scheduler_steps=1, multi_step_stream_outputs=True, enable_prefix_caching=False, chunked_prefill_enabled=True, use_async_output_proc=True, disable_mm_preprocessor_cache=False, mm_processor_kwargs=None, pooler_config=None, compilation_config={\"splitting_ops\":[\"vllm.unified_attention\",\"vllm.unified_attention_with_output\"],\"candidate_compile_sizes\":[],\"compile_sizes\":[],\"capture_sizes\":[256,248,240,232,224,216,208,200,192,184,176,168,160,152,144,136,128,120,112,104,96,88,80,72,64,56,48,40,32,24,16,8,4,2,1],\"max_capture_size\":256}, use_cached_outputs=False, \n",
      "INFO 01-31 10:27:16 selector.py:120] Using Flash Attention backend.\n",
      "INFO 01-31 10:27:16 model_runner.py:1094] Starting to load model deepseek-ai/DeepSeek-R1-Distill-Llama-8B...\n",
      "INFO 01-31 10:27:17 weight_utils.py:251] Using model weights format ['*.safetensors']\n"
     ]
    },
    {
     "name": "stderr",
     "output_type": "stream",
     "text": [
      "Loading safetensors checkpoint shards:   0% Completed | 0/2 [00:00<?, ?it/s]\n",
      "Loading safetensors checkpoint shards:  50% Completed | 1/2 [00:04<00:04,  4.52s/it]\n",
      "Loading safetensors checkpoint shards: 100% Completed | 2/2 [00:08<00:00,  4.39s/it]\n",
      "Loading safetensors checkpoint shards: 100% Completed | 2/2 [00:08<00:00,  4.41s/it]\n",
      "\n"
     ]
    },
    {
     "name": "stdout",
     "output_type": "stream",
     "text": [
      "INFO 01-31 10:27:27 model_runner.py:1099] Loading model weights took 14.9888 GB\n",
      "INFO 01-31 10:27:27 worker.py:241] Memory profiling takes 0.72 seconds\n",
      "INFO 01-31 10:27:27 worker.py:241] the current vLLM instance can use total_gpu_memory (44.34GiB) x gpu_memory_utilization (0.90) = 39.91GiB\n",
      "INFO 01-31 10:27:27 worker.py:241] model weights take 14.99GiB; non_torch_memory takes 0.09GiB; PyTorch activation peak memory takes 1.19GiB; the rest of the memory reserved for KV Cache is 23.64GiB.\n",
      "INFO 01-31 10:27:27 gpu_executor.py:76] # GPU blocks: 12104, # CPU blocks: 2048\n",
      "INFO 01-31 10:27:27 gpu_executor.py:80] Maximum concurrency for 131072 tokens per request: 1.48x\n",
      "INFO 01-31 10:27:29 model_runner.py:1415] Capturing cudagraphs for decoding. This may lead to unexpected consequences if the model is not static. To run the model in eager mode, set 'enforce_eager=True' or use '--enforce-eager' in the CLI. If out-of-memory error occurs during cudagraph capture, consider decreasing `gpu_memory_utilization` or switching to eager mode. You can also reduce the `max_num_seqs` as needed to decrease memory usage.\n"
     ]
    },
    {
     "name": "stderr",
     "output_type": "stream",
     "text": [
      "Capturing CUDA graph shapes: 100%|██████████| 35/35 [00:17<00:00,  1.95it/s]"
     ]
    },
    {
     "name": "stdout",
     "output_type": "stream",
     "text": [
      "INFO 01-31 10:27:47 model_runner.py:1535] Graph capturing finished in 18 secs, took 0.26 GiB\n",
      "INFO 01-31 10:27:47 llm_engine.py:431] init engine (profile, create kv cache, warmup model) took 20.60 seconds\n"
     ]
    },
    {
     "name": "stderr",
     "output_type": "stream",
     "text": [
      "\n"
     ]
    }
   ],
   "source": [
    "# Create an LLM.\n",
    "# llm = LLM(\n",
    "#     model=\"deepseek-ai/DeepSeek-R1-Distill-Llama-8B\",\n",
    "#     quantization=\"deepspeedfp\",\n",
    "#     tensor_parallel_size=1,\n",
    "#     trust_remote_code=True,\n",
    "# )\n",
    "\n",
    "# Create an LLM.\n",
    "llm = LLM(\n",
    "    model=\"deepseek-ai/DeepSeek-R1-Distill-Llama-8B\",\n",
    "    tensor_parallel_size=1,\n",
    "    trust_remote_code=True,\n",
    ")"
   ]
  },
  {
   "cell_type": "code",
   "execution_count": 5,
   "metadata": {},
   "outputs": [
    {
     "name": "stderr",
     "output_type": "stream",
     "text": [
      "Processed prompts: 100%|██████████| 4/4 [00:00<00:00,  6.69it/s, est. speed input: 53.51 toks/s, output: 107.02 toks/s]"
     ]
    },
    {
     "name": "stdout",
     "output_type": "stream",
     "text": [
      "Prompt: 'Xin chào, tên tôi là', Generated text: ' Dương Tâm. Tôi là một trong những người đã dành trọn cuộc đời'\n",
      "Prompt: 'Thủ tướng của Việt Nam là', Generated text: ' người đứng đầu Nhà nước, có thẩm quyền ký các quyết định quan trọng.'\n",
      "Prompt: 'Thủ đô của Việt Nam là', Generated text: ' Hà Nội, có diện tích là 3.308 km² và dân số'\n",
      "Prompt: 'Tương lai của AI sẽ', Generated text: ' mang lại nhiều thay đổi trong lĩnh vực y tế, nhờ vào khả năng phân'\n"
     ]
    },
    {
     "name": "stderr",
     "output_type": "stream",
     "text": [
      "\n"
     ]
    }
   ],
   "source": [
    "outputs = llm.generate(prompts, sampling_params)\n",
    "# Print the outputs.\n",
    "for output in outputs:\n",
    "    prompt = output.prompt\n",
    "    generated_text = output.outputs[0].text\n",
    "    print(f\"Prompt: {prompt!r}, Generated text: {generated_text!r}\")"
   ]
  }
 ],
 "metadata": {
  "kernelspec": {
   "display_name": "Python 3",
   "language": "python",
   "name": "python3"
  },
  "language_info": {
   "codemirror_mode": {
    "name": "ipython",
    "version": 3
   },
   "file_extension": ".py",
   "mimetype": "text/x-python",
   "name": "python",
   "nbconvert_exporter": "python",
   "pygments_lexer": "ipython3",
   "version": "3.10.12"
  }
 },
 "nbformat": 4,
 "nbformat_minor": 2
}
